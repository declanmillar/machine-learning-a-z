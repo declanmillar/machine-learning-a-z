{
 "cells": [
  {
   "cell_type": "markdown",
   "metadata": {},
   "source": [
    "# Support Vector Regression\n",
    "\n",
    "<img src=\"svm.png\" width=\"200\" height=\"200\" style=\"float:right\" />\n",
    "\n",
    "Support Vector Regression (SVR) is an application of support vector machines (SVM) to linear and nonlinear regression.\n",
    "\n",
    "SVMs find the hyperplane (or decision surface) separating classes of data points that maximises the margin between the hyperplane and the data.\n",
    "\n",
    "The decision function is fully specified by a small subset of training samples, the support vectors. These are the data points that lie closest to the decisionsurface. Consequently, they most difficult to classify. They directly determine the optimum location for the hyperplane.\n",
    "\n",
    "\\begin{equation}\n",
    "    K_{i,j} = \\exp\\left( \\sum_k \\theta_k \\left|x_k^i - x^j_k\\right|^2 \\right) + \\epsilon \\delta_{i,j}\n",
    "\\end{equation}\n",
    "\n",
    "\\begin{equation}\n",
    "    \\bar{K}\\vec{\\alpha} = \\vec{y}\n",
    "\\end{equation}\n",
    "\n",
    "Where $\\vec{y}$ is the vector of values corresponding to the training set, $\\bar{K}$ is you correlation matrix and $\\vec{\\alpha}$ is a set of unknowns we need to solve for,\n",
    "\n",
    "\\begin{equation}\n",
    "    \\vec{\\alpha} = \\bar{K}^{-1}\\vec{y}\n",
    "\\end{equation}\n"
   ]
  },
  {
   "cell_type": "code",
   "execution_count": null,
   "metadata": {},
   "outputs": [],
   "source": []
  },
  {
   "cell_type": "markdown",
   "metadata": {},
   "source": [
    "References\n",
    "1. http://web.mit.edu/6.034/wwwbob/svm.pdf"
   ]
  }
 ],
 "metadata": {
  "kernelspec": {
   "display_name": "Python 3",
   "language": "python",
   "name": "python3"
  },
  "language_info": {
   "codemirror_mode": {
    "name": "ipython",
    "version": 3
   },
   "file_extension": ".py",
   "mimetype": "text/x-python",
   "name": "python",
   "nbconvert_exporter": "python",
   "pygments_lexer": "ipython3",
   "version": "3.7.3"
  }
 },
 "nbformat": 4,
 "nbformat_minor": 2
}
