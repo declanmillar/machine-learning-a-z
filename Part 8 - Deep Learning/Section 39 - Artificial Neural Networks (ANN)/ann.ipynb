{
 "cells": [
  {
   "cell_type": "markdown",
   "metadata": {},
   "source": [
    "# Artifical Neural Networks\n",
    "\n",
    "## The Neuron\n",
    "\n",
    "The image below shows a neuron, also known as a node.\n",
    "\n",
    "![ann1](ann1.png)\n",
    "\n",
    "The neuron takes a series of input signals and produces a single output signal. In this course, yellow nodes will signify input values, while green will signify hidden nodes and red will signify output values.\n",
    "\n",
    "<img src=\"ann2.png\" alt=\"ann2\" width=\"200\" height=\"100\" style=\"float:right\">\n",
    "\n",
    "The values in the input layer correspond to a single observation (a single row in the database), measuring the values of multiple independent variables that have been standardized or normalized. Standardization ensures that the variables have mean of 0 and a variance of 1. In normalization you subtract the minimum value and divide by the maximum value to get values between 0 and 1. Whether you choose normalization or standardization depends on the scenario. This is necessary to ensure the network works correctly. Further reading on this can be found in Efficient BackProp by Yann LeCun et al (1998).\n",
    "\n",
    "The output value can be continuous, binary, or categorical. If the output is categorical, we can say that the neuron has multiple outputs, corres\n",
    "\n",
    "The connecting lines between nodes in the synapse layer (dendrites) carry weights $w_{1}...w{m}$ which are adjusted as the network is trained.\n",
    "\n",
    "At the neuron, an activation function $\\phi$ is applied to the sum of weights,\n",
    "\n",
    "\\begin{equation}\n",
    "    \\phi\\left(\\sum_{i=1}^{m} w_i x_i \\right).\n",
    "\\end{equation}\n",
    "\n",
    "Depending on the function and the outcome, the signal is passed on as output to the next node."
   ]
  }
 ],
 "metadata": {
  "kernelspec": {
   "display_name": "Python 3",
   "language": "python",
   "name": "python3"
  },
  "language_info": {
   "codemirror_mode": {
    "name": "ipython",
    "version": 3
   },
   "file_extension": ".py",
   "mimetype": "text/x-python",
   "name": "python",
   "nbconvert_exporter": "python",
   "pygments_lexer": "ipython3",
   "version": "3.7.3"
  }
 },
 "nbformat": 4,
 "nbformat_minor": 2
}
